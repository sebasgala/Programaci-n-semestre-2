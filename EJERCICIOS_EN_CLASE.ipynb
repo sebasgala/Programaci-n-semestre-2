{
  "cells": [
    {
      "cell_type": "markdown",
      "metadata": {
        "id": "eCQtClamxqoc"
      },
      "source": [
        "Ejercicios\n",
        "18 de marzo"
      ]
    },
    {
      "cell_type": "code",
      "execution_count": null,
      "metadata": {
        "colab": {
          "base_uri": "https://localhost:8080/"
        },
        "id": "y5ReZSlvyAD8",
        "outputId": "bca96485-1774-4023-f911-6814f14a3d71"
      },
      "outputs": [
        {
          "name": "stdout",
          "output_type": "stream",
          "text": [
            "Ingrese la cantidad de segundos:60\n",
            "0:1:0\n"
          ]
        }
      ],
      "source": [
        "seg=int(input(\"Ingrese la cantidad de segundos:\"))\n",
        "\n",
        "minu=seg//60\n",
        "sobra_minu=seg%60\n",
        "\n",
        "hora=minu//60\n",
        "sobra_hora=minu%60\n",
        "\n",
        "print(f\"{hora}:{sobra_hora}:{sobra_minu}\")\n",
        "# Solicitamos al usuario que ingrese la cantidad de segundos y guardamos el valor en la variable 'seg'\n",
        "seg = int(input(\"Ingrese la cantidad de segundos:\"))\n",
        "\n",
        "# Calculamos el número de minutos enteros que caben en los segundos ingresados\n",
        "minu = seg // 60\n",
        "# Calculamos los segundos restantes después de convertir a minutos\n",
        "sobra_minu = seg % 60\n",
        "\n",
        "# Calculamos el número de horas enteras que caben en los minutos calculados\n",
        "hora = minu // 60\n",
        "# Calculamos los minutos restantes después de convertir a horas\n",
        "sobra_hora = minu % 60\n",
        "\n",
        "# Imprimimos el resultado en formato horas:minutos:segundos\n",
        "print(f\"{hora}:{sobra_hora}:{sobra_minu}\")\n"
      ]
    },
    {
      "cell_type": "code",
      "execution_count": null,
      "metadata": {
        "colab": {
          "base_uri": "https://localhost:8080/"
        },
        "id": "WO6eKJv9yJwh",
        "outputId": "58026a60-f69c-4678-8de9-fd5c52e6f323"
      },
      "outputs": [
        {
          "name": "stdout",
          "output_type": "stream",
          "text": [
            "Ingrese la cantidad de fósforos:360\n",
            "Sobran fósforos=0\n",
            "cajas=9.0\n",
            "Sobran cajas=0\n",
            "paquetes=0.3\n",
            "Sobran cajas=9.0\n",
            "cartones=0.006\n",
            "Sobran cajas=0.3\n",
            "furgones=0.0002\n",
            "Sobran cajas=0.006\n",
            "se van a ir 0.0002\n"
          ]
        }
      ],
      "source": [
        "# Solicitamos al usuario que ingrese la cantidad de fósforos y guardamos el valor en la variable 'fosforo'\n",
        "fosforo = int(input(\"Ingrese la cantidad de fósforos:\"))\n",
        "\n",
        "# Calculamos el residuo de fósforos que no caben en ninguna caja\n",
        "residuo = fosforo % 40\n",
        "\n",
        "# Calculamos la cantidad de cajas completas y el residuo de fósforos que sobran\n",
        "cajas = fosforo // 40\n",
        "sobra_cajas = fosforo % 40\n",
        "\n",
        "# Calculamos la cantidad de paquetes completos y el residuo de cajas que sobran\n",
        "paquetes = cajas // 30\n",
        "sobra_paquetes = cajas % 30\n",
        "\n",
        "# Calculamos la cantidad de cartones completos y el residuo de paquetes que sobran\n",
        "cartones = paquetes // 50\n",
        "sobra_cartones = paquetes % 50\n",
        "\n",
        "# Calculamos la cantidad de furgones completos y el residuo de cartones que sobran\n",
        "furgones = cartones // 30\n",
        "sobra_furgones = cartones % 30\n",
        "\n",
        "# Imprimimos los resultados con explicaciones claras\n",
        "print(f\"Sobran fósforos sueltos: {residuo}\")\n",
        "print(f\"Total de cajas: {cajas}\")\n",
        "print(f\"Sobran cajas sueltas: {sobra_cajas}\")\n",
        "print(f\"Total de paquetes: {paquetes}\")\n",
        "print(f\"Sobran paquetes sueltos: {sobra_paquetes}\")\n",
        "print(f\"Total de cartones: {cartones}\")\n",
        "print(f\"Sobran cartones sueltos: {sobra_cartones}\")\n",
        "print(f\"Total de furgones: {furgones}\")\n",
        "print(f\"Sobran furgones sueltos: {sobra_furgones}\")\n",
        "\n",
        "# Determinamos si hay algún furgón que se va a ir\n",
        "if furgones > 0:\n",
        "    print(f\"Se van a ir {furgones} furgones\")\n",
        "else:\n",
        "    print(f\"No se va a ir ningún furgón\")\n"
      ]
    },
    {
      "cell_type": "markdown",
      "metadata": {
        "id": "Uh8wAcLtyq4r"
      },
      "source": [
        "21 de marzo"
      ]
    },
    {
      "cell_type": "code",
      "execution_count": null,
      "metadata": {
        "id": "7_kfRcVjyvQA"
      },
      "outputs": [],
      "source": [
        "# Solicitamos al usuario que ingrese un número y guardamos el valor en la variable 'num'\n",
        "num = int(input(\"Ingrese un número:\"))\n",
        "\n",
        "# Verificamos si el número es par o impar\n",
        "if num % 2 == 0:  # Si el residuo de dividir el número por 2 es 0, entonces el número es par\n",
        "    print(\"El número es par\")\n",
        "else:  # Si no, el número es impar\n",
        "    print(\"El número es impar\")\n"
      ]
    },
    {
      "cell_type": "code",
      "execution_count": null,
      "metadata": {
        "colab": {
          "base_uri": "https://localhost:8080/"
        },
        "id": "qJTbwnFHyxVr",
        "outputId": "619b483e-73d8-44a3-e2a6-1140abd64390"
      },
      "outputs": [
        {
          "name": "stdout",
          "output_type": "stream",
          "text": [
            "Ecuación de primer grado\n",
            "Ingrese un número:8\n",
            "Ingrese un número:10\n",
            "-1.25\n"
          ]
        }
      ],
      "source": [
        "# Imprimimos un mensaje indicando que vamos a resolver una ecuación de primer grado\n",
        "print(\"Ecuación de primer grado\")\n",
        "\n",
        "# Solicitamos al usuario que ingrese los coeficientes 'a' y 'b' de la ecuación ax + b = 0\n",
        "a = int(input(\"Ingrese el coeficiente a: \"))\n",
        "b = int(input(\"Ingrese el término independiente b: \"))\n",
        "\n",
        "# Verificamos si el coeficiente 'a' es diferente de 0\n",
        "if a != 0:\n",
        "    # Si 'a' es diferente de 0, calculamos la solución de la ecuación\n",
        "    x = -b / a\n",
        "    # Imprimimos la solución\n",
        "    print(f\"La solución de la ecuación es x = {x}\")\n",
        "else:\n",
        "    # Si 'a' es igual a 0, verificamos si 'b' también es igual a 0\n",
        "    if b == 0:\n",
        "        # Si 'b' es igual a 0, la solución es indeterminada (0 = 0)\n",
        "        print(\"Solución indeterminada\")\n",
        "    else:\n",
        "        # Si 'b' es diferente de 0, la ecuación no tiene solución (b ≠ 0)\n",
        "        print(\"Solución imposible\")\n"
      ]
    },
    {
      "cell_type": "code",
      "execution_count": null,
      "metadata": {
        "id": "6DkM0AgpzG5l"
      },
      "outputs": [],
      "source": [
        "# Imprimimos las opciones del menú\n",
        "print('1.- SUMA DE NÚMEROS')\n",
        "print('2.- MULTIPLICACIÓN DE NÚMEROS')\n",
        "print('3.- DIVISIÓN DE NÚMEROS')\n",
        "\n",
        "# Solicitamos al usuario que ingrese una opción del menú\n",
        "condicion = int(input('Ingrese un valor:'))\n",
        "\n",
        "# Verificamos qué opción ha seleccionado el usuario\n",
        "if condicion == 1:\n",
        "    # Opción 1: Suma de números\n",
        "    print(\"Suma de números\")\n",
        "    # Solicitamos al usuario que ingrese los dos números para la suma\n",
        "    num1 = int(input('Ingrese primer número:'))\n",
        "    num2 = int(input('Ingrese segundo número:'))\n",
        "    # Calculamos la suma de los dos números\n",
        "    suma = num1 + num2\n",
        "    # Imprimimos el resultado de la suma\n",
        "    print(f'La suma es {suma}')\n",
        "\n",
        "elif condicion == 2:\n",
        "    # Opción 2: Multiplicación de números\n",
        "    print(\"Multiplicación de números\")\n",
        "    # Solicitamos al usuario que ingrese los dos números para la multiplicación\n",
        "    num1 = int(input('Ingrese primer número:'))\n",
        "    num2 = int(input('Ingrese segundo número:'))\n",
        "    # Calculamos la multiplicación de los dos números\n",
        "    multi = num1 * num2\n",
        "    # Imprimimos el resultado de la multiplicación\n",
        "    print(f'La multiplicación es {multi}')\n",
        "\n",
        "elif condicion == 3:\n",
        "    # Opción 3: División de números\n",
        "    print(\"División de números\")\n",
        "    # Solicitamos al usuario que ingrese los dos números para la división\n",
        "    num1 = int(input('Ingrese primer número:'))\n",
        "    num2 = int(input('Ingrese segundo número:'))\n",
        "    # Verificamos si el divisor (num2) es cero para evitar la división por cero\n",
        "    if num2 != 0:\n",
        "        # Calculamos la división de los dos números\n",
        "        division = num1 / num2\n",
        "        # Imprimimos el resultado de la división\n",
        "        print(f'La división es {division}')\n",
        "    else:\n",
        "        # Si el divisor es cero, indicamos que la división no es posible\n",
        "        print(\"No se puede dividir por cero\")\n",
        "\n",
        "else:\n",
        "    # Si el usuario ingresa una opción que no es válida, imprimimos un mensaje de error\n",
        "    print(\"Ingrese una opción correcta\")\n"
      ]
    },
    {
      "cell_type": "code",
      "execution_count": null,
      "metadata": {
        "id": "KKUlHlQkzS2_"
      },
      "outputs": [],
      "source": [
        "# Ejercicio 1: Determinar si un número es par o impar\n",
        "\n",
        "# Solicitamos al usuario que ingrese un número y guardamos el valor en la variable 'num'\n",
        "num = int(input(\"Ingrese un número:\"))\n",
        "\n",
        "# Verificamos si el número es par o impar usando el operador de módulo (%)\n",
        "if num % 2 == 0:  # Si el residuo de dividir el número por 2 es 0, entonces el número es par\n",
        "    print(\"El número es par\")\n",
        "else:  # Si el residuo de dividir el número por 2 no es 0, entonces el número es impar\n",
        "    print(\"El número es impar\")\n"
      ]
    },
    {
      "cell_type": "code",
      "execution_count": null,
      "metadata": {
        "id": "vWAjO00czTlF"
      },
      "outputs": [],
      "source": [
        "# Solicitamos al usuario que ingrese una calificación y guardamos el valor en la variable 'cali'\n",
        "cali = int(input(\"Ingrese una calificación:\"))\n",
        "\n",
        "# Verificamos si la calificación está dentro del rango válido (0 a 50 inclusive)\n",
        "if cali >= 0 and cali <= 50:\n",
        "    # Si la calificación está en el rango válido, imprimimos que es válida\n",
        "    print(\"La calificación es válida\")\n",
        "else:\n",
        "    # Si la calificación no está en el rango válido, imprimimos que no es válida\n",
        "    print(\"La calificación no es válida\")\n"
      ]
    },
    {
      "cell_type": "code",
      "execution_count": null,
      "metadata": {
        "id": "0-y8ZtQezVkj"
      },
      "outputs": [],
      "source": [
        "# Ejercicio 3: Determinar si una persona es mayor de edad\n",
        "\n",
        "# Solicitamos al usuario que ingrese su edad y guardamos el valor en la variable 'edad'\n",
        "edad = int(input(\"Ingrese su edad:\"))\n",
        "\n",
        "# Verificamos si la edad ingresada es mayor o igual a 18\n",
        "if edad >= 18:\n",
        "    # Si la edad es mayor o igual a 18, imprimimos que la persona es mayor de edad\n",
        "    print(\"Es mayor de edad\")\n",
        "else:\n",
        "    # Si la edad es menor a 18, imprimimos que la persona es menor de edad\n",
        "    print(\"Es menor de edad\")\n"
      ]
    },
    {
      "cell_type": "code",
      "execution_count": null,
      "metadata": {
        "id": "gCRF7UjfziCS"
      },
      "outputs": [],
      "source": [
        "# Solicitamos al usuario que ingrese un número y lo almacenamos en la variable 'number'\n",
        "number = int(input(\"Ingrese un número:\"))\n",
        "\n",
        "# Verificamos si el número ingresado es mayor o igual a cero\n",
        "if number >= 0:\n",
        "    # Si el número es mayor o igual a cero, lo consideramos positivo y mostramos un mensaje\n",
        "    print(\"El número es positivo\")\n",
        "else:\n",
        "    # Si el número es menor que cero, lo consideramos negativo y mostramos un mensaje\n",
        "    print(\"El número es negativo\")\n"
      ]
    },
    {
      "cell_type": "markdown",
      "metadata": {
        "id": "bdVBJvNczina"
      },
      "source": [
        "25 de marzo"
      ]
    },
    {
      "cell_type": "code",
      "execution_count": null,
      "metadata": {
        "id": "2JWTzqIyz0wj"
      },
      "outputs": [],
      "source": [
        "# Solicitamos al usuario que ingrese un número y lo almacenamos en la variable 'num'\n",
        "num = float(input('Ingrese el número:'))\n",
        "\n",
        "# Verificamos si el número tiene parte decimal o no\n",
        "if num % 1 == 0:\n",
        "    # Si el residuo de la división entre 1 es 0, entonces el número no tiene parte decimal\n",
        "    print('Sin decimal')\n",
        "else:\n",
        "    # Si el residuo de la división entre 1 no es 0, entonces el número tiene parte decimal\n",
        "    print('Con decimal')\n"
      ]
    },
    {
      "cell_type": "code",
      "execution_count": null,
      "metadata": {
        "id": "q1Sq59L4z4ED"
      },
      "outputs": [],
      "source": [
        "# Solicitamos al usuario que ingrese el nombre de usuario y la contraseña, y los almacenamos en las variables 'nombre' y 'passwd' respectivamente\n",
        "nombre = input('Ingrese el usuario:')\n",
        "passwd = input('Ingrese la clave:')\n",
        "\n",
        "# Verificamos si el nombre de usuario y la contraseña coinciden con los valores predefinidos\n",
        "if nombre == 'renato' and passwd == 'puce':\n",
        "    # Si coinciden, imprimimos un mensaje indicando que el usuario puede ingresar al sistema\n",
        "    print('Ingrese al sistema')\n",
        "else:\n",
        "    # Si no coinciden, imprimimos un mensaje indicando que el usuario no puede ingresar al sistema\n",
        "    print('No puedes ingresar al sistema')\n"
      ]
    },
    {
      "cell_type": "code",
      "execution_count": null,
      "metadata": {
        "colab": {
          "base_uri": "https://localhost:8080/"
        },
        "id": "DYr0FMYIz6TN",
        "outputId": "fd68c2b4-69b7-4eca-f190-4c4c7a5cfb7e"
      },
      "outputs": [
        {
          "name": "stdout",
          "output_type": "stream",
          "text": [
            "Ingrese el lado 1:1\n",
            "Ingrese el lado 2:3\n",
            "Ingrese el lado 3:4\n",
            "No es un triágnulo\n"
          ]
        }
      ],
      "source": [
        "# Solicitamos al usuario que ingrese las longitudes de los lados del triángulo y las almacenamos en las variables 'a', 'b' y 'c' respectivamente\n",
        "a = int(input('Ingrese el lado 1:'))\n",
        "b = int(input('Ingrese el lado 2:'))\n",
        "c = int(input('Ingrese el lado 3:'))\n",
        "\n",
        "# Verificamos si las longitudes de los lados pueden formar un triángulo según la desigualdad triangular\n",
        "if a + b > c and a + c > b and b + c > a:\n",
        "    # Si se cumple la desigualdad triangular, entonces los lados pueden formar un triángulo\n",
        "    print(\"Es un triángulo\")\n",
        "else:\n",
        "    # Si no se cumple la desigualdad triangular, entonces los lados no pueden formar un triángulo\n",
        "    print('No es un triángulo')\n"
      ]
    },
    {
      "cell_type": "code",
      "execution_count": null,
      "metadata": {
        "id": "NOw_E_zz0Df7"
      },
      "outputs": [],
      "source": [
        "# Solicitamos al usuario que ingrese los tres números A, B y C, y los almacenamos en las variables correspondientes\n",
        "A = int(input('Ingrese A:'))\n",
        "B = int(input('Ingrese B:'))\n",
        "C = int(input('Ingrese C:'))\n",
        "\n",
        "# Comparamos los números para determinar el mayor\n",
        "if A > B:\n",
        "    # Si A es mayor que B, comparamos A con C para determinar el mayor\n",
        "    if A > C:\n",
        "        mayor = A\n",
        "    else:\n",
        "        mayor = C\n",
        "else:\n",
        "    # Si B es mayor que o igual a A, comparamos B con C para determinar el mayor\n",
        "    if B > C:\n",
        "        mayor = B\n",
        "    else:\n",
        "        mayor = C\n",
        "\n",
        "# Imprimimos el número mayor\n",
        "print(f'El mayor es {mayor}')\n"
      ]
    },
    {
      "cell_type": "code",
      "execution_count": null,
      "metadata": {
        "colab": {
          "base_uri": "https://localhost:8080/"
        },
        "id": "DDPI0nub0M5D",
        "outputId": "a685ecf4-1b99-467e-eb70-25fa0b0a4874"
      },
      "outputs": [
        {
          "name": "stdout",
          "output_type": "stream",
          "text": [
            "5 4 3 2 1 "
          ]
        }
      ],
      "source": [
        "# Inicializamos la variable 'i' con el valor 5\n",
        "i = 5\n",
        "\n",
        "# Mientras 'i' sea mayor que 0, ejecutamos el bucle\n",
        "while i > 0:\n",
        "    # Imprimimos el valor de 'i' seguido de un espacio en la misma línea\n",
        "    print(f'{i}', end=\" \")\n",
        "    # Decrementamos el valor de 'i' en 1 en cada iteración\n",
        "    i = i - 1\n"
      ]
    },
    {
      "cell_type": "markdown",
      "metadata": {
        "id": "RwqeB0Kj0Nfz"
      },
      "source": [
        "1 de abril"
      ]
    },
    {
      "cell_type": "code",
      "execution_count": null,
      "metadata": {
        "colab": {
          "base_uri": "https://localhost:8080/"
        },
        "id": "12fyKTU80RCQ",
        "outputId": "d83e40f3-ee99-40bb-a474-c6f454debba8"
      },
      "outputs": [
        {
          "name": "stdout",
          "output_type": "stream",
          "text": [
            "Ingrese n:10\n",
            "Iteración 10\n",
            "Iteración 9\n",
            "Iteración 8\n",
            "Iteración 7\n",
            "Iteración 6\n",
            "Iteración 5\n",
            "Iteración 4\n",
            "Iteración 3\n",
            "Iteración 2\n",
            "Iteración 1\n"
          ]
        }
      ],
      "source": [
        "# Solicitamos al usuario que ingrese un número 'n' y lo almacenamos en la variable 'n'\n",
        "n = int(input('Ingrese n:'))\n",
        "\n",
        "# Inicializamos la variable 'i' con el valor de 'n'\n",
        "i = n\n",
        "\n",
        "# Mientras 'i' sea mayor que 0, ejecutamos el bucle\n",
        "while i > 0:\n",
        "    # Imprimimos el número de iteración usando el valor de 'i'\n",
        "    print(f'Iteración {i}')\n",
        "    # Decrementamos 'i' en 1 en cada iteración\n",
        "    i = i - 1\n"
      ]
    },
    {
      "cell_type": "code",
      "execution_count": null,
      "metadata": {
        "colab": {
          "base_uri": "https://localhost:8080/"
        },
        "id": "sJW__-rR0WxZ",
        "outputId": "a78e9f8a-a8b7-4efe-faa7-7db4c9e860d9"
      },
      "outputs": [
        {
          "name": "stdout",
          "output_type": "stream",
          "text": [
            "Ingrese n:5\n",
            "1,2,3,4,5,La suma es:15\n"
          ]
        }
      ],
      "source": [
        "# Solicitamos al usuario que ingrese un número 'n' y lo almacenamos en la variable 'n'\n",
        "n = int(input('Ingrese n:'))\n",
        "\n",
        "# Inicializamos la variable 'acu' para almacenar la suma de los números y 'i' para iterar desde 1 hasta 'n'\n",
        "acu = 0\n",
        "i = 1\n",
        "\n",
        "# Mientras 'i' sea menor o igual que 'n', ejecutamos el bucle\n",
        "while i <= n:\n",
        "    # Sumamos el valor actual de 'i' al acumulador 'acu'\n",
        "    acu = acu + i\n",
        "    # Imprimimos el valor de 'i' seguido de una coma para separar los números\n",
        "    print(f'{i}', end=\",\")\n",
        "    # Incrementamos 'i' en 1 para pasar al siguiente número\n",
        "    i = i + 1\n",
        "\n",
        "# Imprimimos la suma total de los números\n",
        "print(f'La suma es: {acu}')\n"
      ]
    },
    {
      "cell_type": "code",
      "execution_count": null,
      "metadata": {
        "colab": {
          "base_uri": "https://localhost:8080/"
        },
        "id": "LS4I-FBf0XiM",
        "outputId": "577b558e-1c63-4892-d6d8-a57ec2fd9183"
      },
      "outputs": [
        {
          "name": "stdout",
          "output_type": "stream",
          "text": [
            "Ingrese n:7\n",
            "1,2,3,4,5,6,7\n",
            "La suma es:28\n"
          ]
        }
      ],
      "source": [
        "# Solicitamos al usuario que ingrese un número 'n' y lo almacenamos en la variable 'n'\n",
        "n = int(input('Ingrese n:'))\n",
        "\n",
        "# Inicializamos la variable 'acu' para almacenar la suma de los números y 'i' para iterar desde 1 hasta 'n'\n",
        "acu = 0\n",
        "i = 1\n",
        "\n",
        "# Mientras 'i' sea menor o igual que 'n', ejecutamos el bucle\n",
        "while i <= n:\n",
        "    # Sumamos el valor actual de 'i' al acumulador 'acu'\n",
        "    acu = acu + i\n",
        "    # Verificamos si 'i' es igual a 'n'\n",
        "    if i == n:\n",
        "        # Si 'i' es igual a 'n', imprimimos 'i' sin una coma adicional\n",
        "        print(f'{i}', end=\"\")\n",
        "    else:\n",
        "        # Si 'i' no es igual a 'n', imprimimos 'i' seguido de una coma para separar los números\n",
        "        print(f'{i}', end=\",\")\n",
        "    # Incrementamos 'i' en 1 para pasar al siguiente número\n",
        "    i = i + 1\n",
        "\n",
        "# Imprimimos la suma total de los números\n",
        "print(f'\\nLa suma es: {acu}')\n"
      ]
    },
    {
      "cell_type": "code",
      "execution_count": null,
      "metadata": {
        "colab": {
          "base_uri": "https://localhost:8080/"
        },
        "id": "uPBb9VnC0Z4a",
        "outputId": "4201a06f-731f-497a-902a-ab604ef2f7fb"
      },
      "outputs": [
        {
          "name": "stdout",
          "output_type": "stream",
          "text": [
            "Ingrese n:10\n",
            "1.0,0.5,0.3333333333333333,0.25,0.2,0.16666666666666666,0.14285714285714285,0.125,0.1111111111111111,0.1\n",
            "La suma es:2.9289682539682538\n"
          ]
        }
      ],
      "source": [
        "# Solicitamos al usuario que ingrese un número 'n' y lo almacenamos en la variable 'n'\n",
        "n = int(input('Ingrese n:'))\n",
        "\n",
        "# Inicializamos la variable 'acu' para almacenar la suma de la serie armónica y 'i' para iterar desde 1 hasta 'n'\n",
        "acu = 0\n",
        "i = 1\n",
        "\n",
        "# Mientras 'i' sea menor o igual que 'n', ejecutamos el bucle\n",
        "while i <= n:\n",
        "    # Sumamos el término actual de la serie armónica al acumulador 'acu'\n",
        "    acu = acu + 1/i\n",
        "    # Verificamos si 'i' es igual a 'n'\n",
        "    if i == n:\n",
        "        # Si 'i' es igual a 'n', imprimimos el término de la serie sin una coma adicional\n",
        "        print(f'{1/i}', end=\"\")\n",
        "    else:\n",
        "        # Si 'i' no es igual a 'n', imprimimos el término de la serie seguido de una coma para separar los términos\n",
        "        print(f'{1/i}', end=\",\")\n",
        "    # Incrementamos 'i' en 1 para pasar al siguiente término de la serie\n",
        "    i = i + 1\n",
        "\n",
        "# Imprimimos la suma total de la serie armónica\n",
        "print(f'\\nLa suma es: {acu}')\n"
      ]
    },
    {
      "cell_type": "code",
      "execution_count": null,
      "metadata": {
        "colab": {
          "base_uri": "https://localhost:8080/"
        },
        "id": "f8fAh0U00gm2",
        "outputId": "d4cfbaf0-d2e0-4d5c-ee7f-ab859d127e18"
      },
      "outputs": [
        {
          "name": "stdout",
          "output_type": "stream",
          "text": [
            "Ingrese n:8\n",
            "\n",
            "El factorial de 8!=40320\n"
          ]
        }
      ],
      "source": [
        "import math as mate\n",
        "\n",
        "# Solicitamos al usuario que ingrese un número 'n' y lo almacenamos en la variable 'n'\n",
        "n = int(input('Ingrese n:'))\n",
        "\n",
        "# Calculamos el factorial de 'n' utilizando la función 'factorial()' del módulo 'math'\n",
        "facto = mate.factorial(n)\n",
        "\n",
        "# Imprimimos el factorial calculado\n",
        "print(f'\\nEl factorial de {n}! = {facto}')\n"
      ]
    },
    {
      "cell_type": "code",
      "execution_count": null,
      "metadata": {
        "id": "OAwdbKXJ0hXT"
      },
      "outputs": [],
      "source": [
        "n = int(input('Ingrese n:'))\n",
        "\n",
        "# Inicializamos las variables\n",
        "acu = 1\n",
        "i = 1\n",
        "\n",
        "# Mientras 'i' sea menor o igual que 'n', ejecutamos el bucle\n",
        "while i <= n:\n",
        "    # Imprimimos el valor actual de 'i'\n",
        "    print(f'{i}', end=\" \")\n",
        "    # Calculamos el factorial acumulando el producto de los números del 1 a 'n'\n",
        "    acu = acu * i\n",
        "    # Incrementamos 'i' en 1 para pasar al siguiente número\n",
        "    i = i + 1\n",
        "\n",
        "# Imprimimos el resultado del factorial\n",
        "print(f'\\nEl factorial de {n}! = {acu}')\n"
      ]
    },
    {
      "cell_type": "code",
      "execution_count": null,
      "metadata": {
        "colab": {
          "base_uri": "https://localhost:8080/",
          "height": 541
        },
        "id": "ly_rWpHx0jh5",
        "outputId": "507cf638-8ee7-4f05-eddc-f3f3e1059109"
      },
      "outputs": [
        {
          "name": "stdout",
          "output_type": "stream",
          "text": [
            "Ingrese el número x:10\n",
            "Ingrese el número n:6\n",
            "La exponencial por sumatoria es 1477.6666666666667\n",
            "La exponencial real es 22026.465794806718\n"
          ]
        },
        {
          "data": {
            "image/png": "[encoded data removed]",
            "text/plain": [
              "<Figure size 640x480 with 1 Axes>"
            ]
          },
          "metadata": {},
          "output_type": "display_data"
        }
      ],
      "source": [
        "import math as mt\n",
        "import matplotlib.pyplot as plt\n",
        "\n",
        "# Inicializamos la variable de la sumatoria\n",
        "acu = 0\n",
        "\n",
        "# Solicitamos al usuario que ingrese el valor de 'x' y 'n'\n",
        "x = int(input('Ingrese el número x:'))\n",
        "n = int(input('Ingrese el número n:'))\n",
        "\n",
        "# Iteramos sobre los términos de la serie de Taylor\n",
        "for i in range(0, n):\n",
        "    # Calculamos el término actual de la serie de Taylor\n",
        "    termino = (x ** i) / (mt.factorial(i))\n",
        "    # Sumamos el término actual al acumulador\n",
        "    acu = acu + termino\n",
        "    # Graficamos el punto correspondiente al término actual\n",
        "    plt.plot(i, acu, 'ro')\n",
        "\n",
        "# Imprimimos el valor de la exponencial por sumatoria\n",
        "print(f'La exponencial por sumatoria es {acu}')\n",
        "\n",
        "# Calculamos la exponencial real utilizando la función exp() del módulo math\n",
        "expo = mt.exp(x)\n",
        "# Imprimimos el valor de la exponencial real\n",
        "print(f'La exponencial real es {expo}')\n",
        "\n",
        "# Configuramos el título y las etiquetas de los ejes de la gráfica\n",
        "plt.title('GRAFICA DE EXPONENCIAL')\n",
        "plt.xlabel('Eje X')\n",
        "plt.ylabel('Eje Y')\n",
        "\n",
        "# Mostramos la gráfica\n",
        "plt.grid()\n",
        "plt.show()\n"
      ]
    },
    {
      "cell_type": "markdown",
      "metadata": {
        "id": "RQrNCOjw06VT"
      },
      "source": [
        "4 de abril"
      ]
    },
    {
      "cell_type": "code",
      "execution_count": null,
      "metadata": {
        "colab": {
          "base_uri": "https://localhost:8080/"
        },
        "id": "xsBn4Es507V-",
        "outputId": "4150d89c-ff52-43bc-d4b3-df6bd802021b"
      },
      "outputs": [
        {
          "name": "stdout",
          "output_type": "stream",
          "text": [
            "1\n",
            "2\n",
            "3\n",
            "4\n",
            "5\n"
          ]
        }
      ],
      "source": [
        "# Inicializamos la variable 'i' con el valor 1\n",
        "i = 1\n",
        "\n",
        "# Mientras 'i' sea menor que 6, ejecutamos el bucle\n",
        "while i < 6:\n",
        "    # Imprimimos el valor actual de 'i'\n",
        "    print(f'{i}')\n",
        "    # Incrementamos 'i' en 1 en cada iteración\n",
        "    i = i + 1\n"
      ]
    },
    {
      "cell_type": "code",
      "execution_count": null,
      "metadata": {
        "id": "849_4JzW1C4j"
      },
      "outputs": [],
      "source": [
        "# Solicitamos al usuario que ingrese un número 'n' y lo almacenamos en la variable 'n'\n",
        "n = int(input('Ingrese n:'))\n",
        "\n",
        "# Iteramos sobre los números desde 1 hasta 'n'\n",
        "for i in range(1, n + 1):\n",
        "    # Verificamos si el número actual es igual a 'n'\n",
        "    if i == n:\n",
        "        # Si es el último número, lo imprimimos sin una coma adicional\n",
        "        print(f'{i}', end=\"\")\n",
        "    else:\n",
        "        # Si no es el último número, lo imprimimos seguido de una coma para separarlos\n",
        "        print(f'{i}', end=\",\")\n",
        "\n",
        "# Imprimimos una nueva línea al final\n",
        "print()\n"
      ]
    },
    {
      "cell_type": "code",
      "execution_count": null,
      "metadata": {
        "colab": {
          "base_uri": "https://localhost:8080/"
        },
        "id": "e0jkolJ-1E4z",
        "outputId": "060bbf3c-1e7e-41d6-e747-52a509e98bb9"
      },
      "outputs": [
        {
          "name": "stdout",
          "output_type": "stream",
          "text": [
            "Ingrese la cantidad de edades a ingresar:5\n",
            "Ingrese su edad:12\n",
            "Ingrese su edad:7\n",
            "Ingrese su edad:9\n",
            "Ingrese su edad:15\n",
            "Ingrese su edad:50\n",
            "La suma de las edades es 93\n",
            "El promedio de las edades 18.6\n"
          ]
        }
      ],
      "source": [
        "# Solicitamos al usuario que ingrese la cantidad de edades a ingresar\n",
        "n = int(input(\"Ingrese la cantidad de edades a ingresar:\"))\n",
        "\n",
        "# Inicializamos el acumulador para la suma de edades\n",
        "acum_e = 0\n",
        "# Inicializamos el contador 'i' en 1\n",
        "i = 1\n",
        "\n",
        "# Mientras 'i' sea menor o igual que 'n', solicitamos al usuario que ingrese una edad en cada iteración\n",
        "while i <= n:\n",
        "    # Solicitamos al usuario que ingrese su edad\n",
        "    edad = int(input(\"Ingrese su edad:\"))\n",
        "    # Sumamos la edad ingresada al acumulador\n",
        "    acum_e += edad\n",
        "    # Incrementamos el contador 'i' en 1 para pasar a la siguiente iteración\n",
        "    i += 1\n",
        "\n",
        "# Calculamos el promedio de las edades ingresadas\n",
        "prom = acum_e / n\n",
        "\n",
        "# Imprimimos la suma de las edades y su promedio\n",
        "print(f\"La suma de las edades es {acum_e}\")\n",
        "print(f\"El promedio de las edades es {prom}\")\n"
      ]
    },
    {
      "cell_type": "code",
      "execution_count": null,
      "metadata": {
        "colab": {
          "base_uri": "https://localhost:8080/"
        },
        "id": "6669mZCL1HGN",
        "outputId": "573d1f46-0ea8-4261-95a9-bf185236ab8d"
      },
      "outputs": [
        {
          "name": "stdout",
          "output_type": "stream",
          "text": [
            "Ingrese la cantidad de edades a ingresar:3\n",
            "Ingrese su edad:20\n",
            "Ingrese su edad:7\n",
            "Ingrese su edad:-2\n",
            "Hay 1 mayores de edad\n",
            "El promedio de las edades mayores es 20.0\n"
          ]
        }
      ],
      "source": [
        "# Solicitamos al usuario que ingrese la cantidad de edades a ingresar\n",
        "n = int(input(\"Ingrese la cantidad de edades a ingresar:\"))\n",
        "\n",
        "# Inicializamos el acumulador para la suma de las edades mayores o iguales a 18 y el contador para contar cuántos son mayores de edad\n",
        "acum_mayor = 0\n",
        "contador = 0\n",
        "i = 1\n",
        "\n",
        "# Mientras 'i' sea menor o igual que 'n', solicitamos al usuario que ingrese una edad en cada iteración\n",
        "while i <= n:\n",
        "    # Solicitamos al usuario que ingrese su edad\n",
        "    edad = int(input(\"Ingrese su edad:\"))\n",
        "    # Verificamos si la edad ingresada es mayor o igual a 18\n",
        "    if edad >= 18:\n",
        "        # Si la edad es mayor o igual a 18, la sumamos al acumulador y aumentamos el contador en 1\n",
        "        acum_mayor += edad\n",
        "        contador += 1\n",
        "    # Incrementamos 'i' en 1 para pasar a la siguiente iteración\n",
        "    i += 1\n",
        "\n",
        "# Calculamos el promedio de las edades mayores o iguales a 18\n",
        "if contador > 0:\n",
        "    prom = acum_mayor / contador\n",
        "else:\n",
        "    prom = 0\n",
        "\n",
        "# Imprimimos la cantidad de mayores de edad y el promedio de sus edades\n",
        "print(f\"Hay {contador} mayores de edad\")\n",
        "print(f\"El promedio de las edades mayores es {prom}\")\n"
      ]
    },
    {
      "cell_type": "code",
      "execution_count": null,
      "metadata": {
        "id": "i9wwZHJM1JQ2"
      },
      "outputs": [],
      "source": [
        "# Solicitamos al usuario que ingrese la cantidad de edades a ingresar\n",
        "n = int(input(\"Ingrese la cantidad de edades a ingresar:\"))\n",
        "\n",
        "# Inicializamos las variables para almacenar el mayor y el menor de las edades\n",
        "bigger = float('-inf')  # Inicializamos el mayor con el valor más pequeño posible\n",
        "less = float('inf')     # Inicializamos el menor con el valor más grande posible\n",
        "\n",
        "# Iteramos para obtener las edades\n",
        "for i in range(1, n + 1):\n",
        "    edad = int(input(\"Ingrese su edad:\"))\n",
        "    if edad > bigger:\n",
        "        bigger = edad\n",
        "    if edad < less:\n",
        "        less = edad\n",
        "\n",
        "# Imprimimos el mayor y el menor de las edades\n",
        "print(f\"El mayor de las edades es {bigger}\")\n",
        "print(f\"El menor de las edades es {less}\")\n",
        "\n"
      ]
    },
    {
      "cell_type": "code",
      "execution_count": null,
      "metadata": {
        "id": "7OFldi1U1Lk0"
      },
      "outputs": [],
      "source": [
        "# Solicitamos al usuario que ingrese la cantidad de edades a ingresar\n",
        "n = int(input(\"Ingrese la cantidad de edades a ingresar:\"))\n",
        "\n",
        "# Inicializamos las variables para almacenar el mayor y el menor de las edades mayores o iguales a 18\n",
        "bigger = 0  # Inicializamos el mayor con 0\n",
        "less = float('inf')  # Inicializamos el menor con el valor más grande posible\n",
        "\n",
        "# Iteramos para obtener las edades\n",
        "for i in range(1, n + 1):\n",
        "    edad = int(input(\"Ingrese su edad:\"))\n",
        "    # Verificamos si la edad es mayor o igual a 18\n",
        "    if edad >= 18:\n",
        "        # Si la edad es mayor o igual a 18, comparamos con el mayor y el menor\n",
        "        if edad > bigger:\n",
        "            bigger = edad\n",
        "        if edad < less:\n",
        "            less = edad\n",
        "\n",
        "# Imprimimos el mayor y el menor de las edades mayores o iguales a 18\n",
        "print(f\"El mayor de las edades mayores o iguales a 18 es {bigger}\")\n",
        "print(f\"El menor de las edades mayores o iguales a 18 es {less}\")\n"
      ]
    },
    {
      "cell_type": "code",
      "execution_count": null,
      "metadata": {
        "id": "JjJzpCo61N2L"
      },
      "outputs": [],
      "source": [
        "# Solicitamos al usuario que ingrese la cantidad de edades a ingresar\n",
        "n = int(input(\"Ingrese la cantidad de edades a ingresar:\"))\n",
        "\n",
        "# Inicializamos las variables para almacenar el mayor y el menor de las edades mayores o iguales a 18\n",
        "bigger = float('-inf')  # Inicializamos el mayor con el valor más pequeño posible\n",
        "less = float('inf')     # Inicializamos el menor con el valor más grande posible\n",
        "\n",
        "# Inicializamos las variables para almacenar el mayor y el menor de las edades menores a 18\n",
        "bigger_men18 = float('-inf')  # Inicializamos el mayor con el valor más pequeño posible\n",
        "less_men18 = float('inf')     # Inicializamos el menor con el valor más grande posible\n",
        "\n",
        "# Iteramos para obtener las edades\n",
        "for i in range(1, n + 1):\n",
        "    edad = int(input(\"Ingrese su edad:\"))\n",
        "    # Verificamos si la edad es mayor o igual a 18\n",
        "    if edad >= 18:\n",
        "        # Si la edad es mayor o igual a 18, comparamos con el mayor y el menor de las edades mayores o iguales a 18\n",
        "        if edad > bigger:\n",
        "            bigger = edad\n",
        "        if edad < less:\n",
        "            less = edad\n",
        "    else:\n",
        "        # Si la edad es menor a 18, comparamos con el mayor y el menor de las edades menores a 18\n",
        "        if edad > bigger_men18:\n",
        "            bigger_men18 = edad\n",
        "        if edad < less_men18:\n",
        "            less_men18 = edad\n",
        "\n",
        "# Imprimimos el mayor y el menor de las edades mayores o iguales a 18 y de las edades menores a 18\n",
        "print(f\"El mayor de las edades de 18 o más es {bigger}\")\n",
        "print(f\"El menor de las edades de 18 o más es {less}\")\n",
        "print(f\"El mayor de las edades menores a 18 es {bigger_men18}\")\n",
        "print(f\"El menor de las edades menores a 18 es {less_men18}\")\n",
        "\n"
      ]
    },
    {
      "cell_type": "code",
      "execution_count": null,
      "metadata": {
        "colab": {
          "base_uri": "https://localhost:8080/"
        },
        "id": "9A1VqCWW1Qo-",
        "outputId": "fd1e2402-b82e-41bb-c356-c65cc82444c7"
      },
      "outputs": [
        {
          "name": "stdout",
          "output_type": "stream",
          "text": [
            "Ingrese la cantidad de edades a ingresar:4\n",
            "La cantidad de pares es 4 y su promedio es 58.5\n",
            "El mayor de los impares es 0\n",
            "El menor de los impares es 150\n"
          ]
        }
      ],
      "source": [
        "import random\n",
        "\n",
        "# Solicitamos al usuario que ingrese la cantidad de edades a generar\n",
        "n = int(input(\"Ingrese la cantidad de edades a generar:\"))\n",
        "\n",
        "# Inicializamos las variables para contar los pares, acumular su suma, y encontrar el mayor y menor de los impares\n",
        "pares_cont = 0\n",
        "acum_pares = 0\n",
        "mayor_impar = 0\n",
        "menor_impar = 150  # Inicializamos con un valor alto\n",
        "\n",
        "# Generamos 'n' números aleatorios\n",
        "for i in range(n):\n",
        "    num = random.randint(0, 100)\n",
        "\n",
        "    if num % 2 == 0:  # Si es par\n",
        "        pares_cont += 1\n",
        "        acum_pares += num\n",
        "    else:  # Si es impar\n",
        "        if num > mayor_impar:\n",
        "            mayor_impar = num\n",
        "        if num < menor_impar:\n",
        "            menor_impar = num\n",
        "\n",
        "# Calculamos el promedio de los números pares si hay al menos uno\n",
        "if pares_cont > 0:\n",
        "    promedio = acum_pares / pares_cont\n",
        "else:\n",
        "    promedio = 0\n",
        "\n",
        "# Imprimimos los resultados\n",
        "print(f\"La cantidad de pares es {pares_cont} y su promedio es {promedio}\")\n",
        "print(f\"El mayor de los impares es {mayor_impar}\")\n",
        "print(f\"El menor de los impares es {menor_impar}\")\n"
      ]
    },
    {
      "cell_type": "markdown",
      "metadata": {
        "id": "89S5WPNP1ThJ"
      },
      "source": [
        "11 de abril"
      ]
    },
    {
      "cell_type": "code",
      "execution_count": null,
      "metadata": {
        "id": "IsizGbgx1dJg"
      },
      "outputs": [],
      "source": [
        "# Solicitamos al usuario que ingrese el número de personas\n",
        "n = int(input('Ingrese el número de personas:'))\n",
        "\n",
        "# Inicializamos las variables para el acumulador de pesos y el mayor peso\n",
        "acu = 0\n",
        "mayor = 0\n",
        "\n",
        "# Iteramos para ingresar los pesos y calcular el acumulado y el mayor\n",
        "i = 1\n",
        "while i <= n:\n",
        "    peso = float(input('Ingrese el peso:'))\n",
        "    acu += peso\n",
        "    if peso > mayor:\n",
        "        mayor = peso\n",
        "    i += 1\n",
        "\n",
        "# Calculamos el promedio de los pesos\n",
        "promedio = acu / n\n",
        "\n",
        "# Imprimimos los resultados\n",
        "print(f'El promedio es {promedio}')\n",
        "print(f'El mayor es {mayor}')\n"
      ]
    },
    {
      "cell_type": "code",
      "execution_count": null,
      "metadata": {
        "id": "Dy9JtaV01eCN"
      },
      "outputs": [],
      "source": [
        "# Solicitamos al usuario que ingrese las horas trabajadas y la tarifa por hora\n",
        "horas = int(input('Ingrese las horas:'))\n",
        "tarifa = int(input('Ingrese la tarifa:'))\n",
        "\n",
        "# Inicializamos la variable precio\n",
        "precio = 0\n",
        "\n",
        "# Calculamos el precio basado en las horas trabajadas y la tarifa\n",
        "if horas <= 1:\n",
        "    precio = tarifa\n",
        "elif horas > 1 and horas <= 3:\n",
        "    precio = tarifa + (horas - 1) * 0.75 * tarifa\n",
        "elif horas > 3 and horas <= 5:\n",
        "    precio = tarifa + 2 * tarifa * 0.75 + (horas - 3) * 0.50 * tarifa\n",
        "elif horas > 5:\n",
        "    precio = tarifa + 2 * tarifa * 0.75 + 2 * tarifa * 0.50 + (horas - 5) * 0.25 * tarifa\n",
        "\n",
        "# Imprimimos el precio final\n",
        "print(f'El precio final es {precio}')\n"
      ]
    },
    {
      "cell_type": "code",
      "execution_count": null,
      "metadata": {
        "id": "Rlvf41VN1j7s"
      },
      "outputs": [],
      "source": [
        "# Solicitar al usuario que ingrese la cantidad de notas\n",
        "n = int(input('Ingrese la cantidad de notas:'))\n",
        "\n",
        "# Inicializar contadores para contar notas en cada intervalo\n",
        "cont1 = 0\n",
        "cont2 = 0\n",
        "cont3 = 0\n",
        "\n",
        "# Iterar sobre el rango de notas ingresadas por el usuario\n",
        "for i in range(n):\n",
        "    # Solicitar al usuario que ingrese una nota\n",
        "    nota = int(input('Ingrese la nota:'))\n",
        "    \n",
        "    # Verificar si la nota está dentro del rango válido (0 a 10, inclusivo)\n",
        "    if nota >= 0 or nota <= 10:  # Debería ser 'and' en lugar de 'or'\n",
        "        # Contabilizar la nota en el intervalo correspondiente\n",
        "        if nota >= 0 and nota < 4:\n",
        "            cont1 = cont1 + 1\n",
        "        elif nota >= 4 and nota < 7:\n",
        "            cont2 = cont2 + 1\n",
        "        elif nota >= 7 and nota <= 10:\n",
        "            cont3 = cont3 + 1\n",
        "    else:\n",
        "        # Imprimir un mensaje de error si la nota está fuera del rango válido\n",
        "        print('Calificación Incorrecta')\n",
        "        # Saltar a la siguiente iteración del bucle\n",
        "        continue\n",
        "\n",
        "# Imprimir la cantidad de notas en cada intervalo\n",
        "print(f'Intervalo 1:{cont1}')\n",
        "print(f'Intervalo 2:{cont2}')\n",
        "print(f'Intervalo 3:{cont3}')\n"
      ]
    },
    {
      "cell_type": "markdown",
      "metadata": {
        "id": "KfnSwtt51vcK"
      },
      "source": [
        "22 de abril"
      ]
    },
    {
      "cell_type": "code",
      "execution_count": null,
      "metadata": {
        "colab": {
          "base_uri": "https://localhost:8080/"
        },
        "id": "AjxBjAhQ18Ca",
        "outputId": "4d81b917-ab66-4501-89c7-b825480fded5"
      },
      "outputs": [
        {
          "name": "stdout",
          "output_type": "stream",
          "text": [
            "Ingrese el tamaño del Vector:5\n",
            "Ingrese tamaño mínimo: 4\n",
            "Ingrese el valor máximo10\n",
            "IMPRESION NORMAL\n",
            "[4 4 9 9 7]\n",
            "IMPRESION ORDENADA\n",
            "[4 4 7 9 9]\n",
            "La mediana es 7\n"
          ]
        }
      ],
      "source": [
        "import random  # Importa el módulo random para generar números aleatorios\n",
        "\n",
        "# Solicita al usuario que ingrese el tamaño del vector y los valores mínimo y máximo para los números aleatorios\n",
        "n = int(input('Ingrese el tamaño del Vector:'))\n",
        "a = int(input(\"Ingrese tamaño mínimo: \"))\n",
        "b = int(input(\"Ingrese el valor máximo\"))\n",
        "\n",
        "vec = []  # Inicializa una lista vacía para almacenar los números aleatorios\n",
        "\n",
        "# Genera números aleatorios y los agrega al vector\n",
        "for i in range(n):\n",
        "    num = random.randint(a, b)\n",
        "    vec.append(num)\n",
        "\n",
        "# Imprime el vector generado\n",
        "print(\"IMPRESION NORMAL\")\n",
        "print('[', end=\"\")\n",
        "for i in range(n):\n",
        "    if i == n - 1:\n",
        "        print(vec[i], end=\"\")\n",
        "    else:\n",
        "        print(vec[i], end=\" \")\n",
        "print(']')\n",
        "\n",
        "# Ordena el vector de menor a mayor utilizando el algoritmo de burbuja\n",
        "for i in range(n):\n",
        "    for j in range(n - 1):\n",
        "        if vec[j] > vec[j + 1]:\n",
        "            aux = vec[j]\n",
        "            vec[j] = vec[j + 1]\n",
        "            vec[j + 1] = aux\n",
        "\n",
        "# Imprime el vector ordenado\n",
        "print(\"IMPRESION ORDENADA\")\n",
        "print('[', end=\"\")\n",
        "for i in range(n):\n",
        "    if i == n - 1:\n",
        "        print(vec[i], end=\"\")\n",
        "    else:\n",
        "        print(vec[i], end=\" \")\n",
        "print(']')\n",
        "\n",
        "# Calcula la mediana del vector\n",
        "if n % 2 == 0:\n",
        "    var1 = n // 2\n",
        "    var2 = (n - 1) // 2\n",
        "    mediana = (vec[var1] + vec[var2]) / 2\n",
        "else:\n",
        "    var = n // 2\n",
        "    mediana = vec[var]\n",
        "\n",
        "# Imprime la mediana calculada\n",
        "print(f'La mediana es {mediana}')\n"
      ]
    },
    {
      "cell_type": "markdown",
      "metadata": {
        "id": "CSiz3RQd2Iw6"
      },
      "source": [
        "25 de abril"
      ]
    },
    {
      "cell_type": "code",
      "execution_count": null,
      "metadata": {
        "id": "PpjD8EM32KBs"
      },
      "outputs": [],
      "source": [
        "import random  # Importa el módulo random para generar números aleatorios\n",
        "\n",
        "# Solicita al usuario que ingrese el tamaño del vector\n",
        "n = int(input('Ingrese el tamaño del vector:'))\n",
        "\n",
        "vec = []  # Inicializa una lista vacía para almacenar los números aleatorios\n",
        "suma = 0  # Inicializa una variable para almacenar la suma de los números aleatorios\n",
        "\n",
        "# Genera números aleatorios y los agrega al vector\n",
        "for i in range(n):\n",
        "    num = random.randint(0, 100)\n",
        "    vec.append(num)\n",
        "\n",
        "mayor = vec[0]  # Inicializa la variable 'mayor' con el primer elemento del vector\n",
        "ind = 0  # Inicializa la variable 'ind' para almacenar el índice del mayor elemento\n",
        "\n",
        "# Recorre el vector para calcular la suma, encontrar el mayor elemento y su índice\n",
        "for i in range(n):\n",
        "    suma = suma + vec[i]  # Suma cada elemento del vector a 'suma'\n",
        "    if vec[i] > mayor:  # Comprueba si el elemento actual es mayor que el mayor encontrado hasta ahora\n",
        "        mayor = vec[i]  # Si es así, actualiza el valor de 'mayor'\n",
        "        ind = i  # Actualiza el valor de 'ind' con el índice del nuevo mayor\n",
        "\n",
        "promedio = suma / n  # Calcula el promedio de los números aleatorios en el vector\n",
        "\n",
        "# Imprime el vector generado, el mayor elemento y su índice, y el promedio de los elementos\n",
        "print(vec)\n",
        "print(f'El mayor es {mayor} y se encuentra en la posición {ind}')\n",
        "print(f\"El promedio es {promedio}\")\n"
      ]
    },
    {
      "cell_type": "code",
      "execution_count": null,
      "metadata": {
        "id": "GuFKexxA2Zqd"
      },
      "outputs": [],
      "source": [
        "import random as rd  # Importa el módulo random y lo apoda como 'rd'\n",
        "\n",
        "# Solicita al usuario que ingrese el tamaño del vector\n",
        "n = int(input('Ingrese el tamaño del Vector:'))\n",
        "\n",
        "vec = []  # Inicializa una lista vacía para almacenar los números aleatorios\n",
        "\n",
        "# Genera números aleatorios y los agrega al vector\n",
        "for i in range(n):\n",
        "    num = rd.randint(0, 10)  # Genera un número aleatorio entre 0 y 10 (inclusive)\n",
        "    vec.append(num)\n",
        "\n",
        "# Imprime el vector generado\n",
        "print(\"IMPRESION NORMAL\")\n",
        "print('[', end=\"\")\n",
        "for i in range(n):\n",
        "    if i == n - 1:\n",
        "        print(vec[i], end=\"\")  # Si es el último elemento, no añade un espacio al final\n",
        "    else:\n",
        "        print(vec[i], end=\" \")  # Añade un espacio al final para separar los elementos\n",
        "print(']')\n",
        "\n",
        "# Ordena el vector utilizando el método de burbuja\n",
        "for i in range(n):\n",
        "    for j in range(n - 1):\n",
        "        if vec[j] > vec[j + 1]:  # Compara elementos adyacentes y los intercambia si están en el orden incorrecto\n",
        "            vec[j], vec[j + 1] = vec[j + 1], vec[j]\n",
        "\n",
        "# Imprime el vector ordenado\n",
        "print(\"IMPRESION ORDENADA\")\n",
        "print('[', end=\"\")\n",
        "for i in range(n):\n",
        "    if i == n - 1:\n",
        "        print(vec[i], end=\"\")  # Si es el último elemento, no añade un espacio al final\n",
        "    else:\n",
        "        print(vec[i], end=\" \")  # Añade un espacio al final para separar los elementos\n",
        "print(']')\n"
      ]
    },
    {
      "cell_type": "markdown",
      "metadata": {
        "id": "x7g-f6QM2gKl"
      },
      "source": [
        "29 de abril"
      ]
    },
    {
      "cell_type": "code",
      "execution_count": null,
      "metadata": {
        "colab": {
          "base_uri": "https://localhost:8080/"
        },
        "id": "7iiSEYH62iun",
        "outputId": "52e09a50-d5ac-437f-b3e9-6b017e4723c7"
      },
      "outputs": [
        {
          "name": "stdout",
          "output_type": "stream",
          "text": [
            "Ingrese las filas:5\n",
            "Ingrese las columnas:5\n",
            "[[1, 0, 8, 3, 4], [1, 8, 3, 2, 8], [5, 4, 6, 2, 8], [8, 5, 6, 6, 8], [3, 10, 10, 1, 3]]\n",
            "1\t0\t8\t3\t4\t\n",
            "1\t8\t3\t2\t8\t\n",
            "5\t4\t6\t2\t8\t\n",
            "8\t5\t6\t6\t8\t\n",
            "3\t10\t10\t1\t3\t\n",
            "La suma es 16\n",
            "La fila aletoria es 3\n",
            "La suma es 33\n",
            "La suma de la diagonal es 24\n"
          ]
        }
      ],
      "source": [
        "import random  # Importa el módulo random para generar números aleatorios\n",
        "\n",
        "# Solicita al usuario que ingrese el número de filas y columnas para la matriz\n",
        "m = int(input(\"Ingrese las filas:\"))\n",
        "n = int(input(\"Ingrese las columnas:\"))\n",
        "\n",
        "A = []  # Inicializa una lista vacía para almacenar la matriz\n",
        "\n",
        "# Genera la matriz aleatoria\n",
        "for i in range(m):\n",
        "    filas = []  # Inicializa una lista vacía para cada fila\n",
        "    for j in range(n):\n",
        "        num = random.randint(0, 10)  # Genera un número aleatorio entre 0 y 10\n",
        "        filas.append(num)  # Agrega el número a la fila actual\n",
        "    A.append(filas)  # Agrega la fila a la matriz\n",
        "\n",
        "print(A)  # Imprime la matriz generada\n",
        "\n",
        "# Imprime la matriz de forma legible\n",
        "for i in A:\n",
        "    for j in i:\n",
        "        print(j, end=\"\\t\")  # Imprime cada elemento de la matriz seguido de un tabulador\n",
        "    print()  # Imprime una nueva línea después de imprimir cada fila\n",
        "\n",
        "# Calcula la suma de la primera fila\n",
        "suma = 0\n",
        "for i in range(n):\n",
        "    if i == 0:\n",
        "        for j in A[i]:\n",
        "            suma += j  # Suma cada elemento de la primera fila\n",
        "\n",
        "print(f\"La suma es {suma}\")\n",
        "\n",
        "# Calcula la suma de una fila aleatoria\n",
        "suma1 = 0\n",
        "alea = random.randint(1, m - 1)  # Genera un índice de fila aleatorio\n",
        "for i in range(n):\n",
        "    suma1 += A[alea][i]  # Suma los elementos de la fila aleatoria\n",
        "\n",
        "print(f\"La fila aleatoria es {alea}\")\n",
        "print(f\"La suma es {suma1}\")\n",
        "\n",
        "# Calcula la suma de la diagonal principal (si la matriz es cuadrada)\n",
        "if m == n:\n",
        "    diagonal = 0\n",
        "    for i in range(n):\n",
        "        for j in range(m):\n",
        "            if i == j:\n",
        "                diagonal += A[i][j]  # Suma los elementos de la diagonal principal\n",
        "\n",
        "    print(f\"La suma de la diagonal es {diagonal}\")\n"
      ]
    },
    {
      "cell_type": "code",
      "execution_count": null,
      "metadata": {
        "id": "ZWJMyt282wuE"
      },
      "outputs": [],
      "source": [
        "import random as rd  # Importa el módulo random y lo apoda como 'rd'\n",
        "import matplotlib.pyplot as plt  # Importa el módulo pyplot de matplotlib y lo apoda como 'plt'\n",
        "\n",
        "# Solicita al usuario que ingrese el tamaño del vector\n",
        "n = int(input('Ingrese el tamaño del Vector:'))\n",
        "\n",
        "vec1 = []  # Inicializa una lista vacía para el primer vector\n",
        "vec2 = []  # Inicializa una lista vacía para el segundo vector\n",
        "\n",
        "# Genera datos aleatorios y los agrega a los vectores\n",
        "for i in range(n):\n",
        "    num1 = rd.randint(0, 10)  # Genera un número aleatorio entre 0 y 10 para el primer vector\n",
        "    vec1.append(num1)  # Agrega el número al primer vector\n",
        "    num2 = rd.randint(0, 10)  # Genera un número aleatorio entre 0 y 10 para el segundo vector\n",
        "    vec2.append(num2)  # Agrega el número al segundo vector\n",
        "\n",
        "# Imprime los vectores generados\n",
        "print(vec1)\n",
        "print(vec2)\n",
        "\n",
        "# Grafica los puntos (x, y) donde x pertenece al primer vector y y pertenece al segundo vector\n",
        "plt.plot(vec1, vec2, 'ro')  # 'ro' indica que se usarán puntos rojos\n",
        "plt.show()  # Muestra la gráfica\n"
      ]
    },
    {
      "cell_type": "code",
      "execution_count": null,
      "metadata": {
        "id": "2E-zcntp21uG"
      },
      "outputs": [],
      "source": [
        "import random as rd  # Importa el módulo random y lo apoda como 'rd'\n",
        "\n",
        "# Solicita al usuario que ingrese el tamaño del vector\n",
        "n = int(input('Ingrese el tamaño del Vector:'))\n",
        "\n",
        "vec = []  # Inicializa una lista vacía para almacenar los números aleatorios\n",
        "\n",
        "# Genera datos aleatorios y los agrega al vector\n",
        "for i in range(n):\n",
        "    num = rd.randint(0, 10)  # Genera un número aleatorio entre 0 y 10\n",
        "    vec.append(num)  # Agrega el número al vector\n",
        "\n",
        "# Imprime el vector generado de manera normal\n",
        "print(\"IMPRESION NORMAL\")\n",
        "print('[', end=\"\")\n",
        "for i in range(n):\n",
        "    if i == n - 1:\n",
        "        print(vec[i], end=\"\")  # Si es el último elemento, no añade un espacio al final\n",
        "    else:\n",
        "        print(vec[i], end=\" \")  # Añade un espacio al final para separar los elementos\n",
        "print(']')\n",
        "\n",
        "# Imprime el vector generado en orden inverso (forma 1)\n",
        "print(\"IMPRESION AL REVÉS\")\n",
        "print('[', end=\"\")\n",
        "for i in range(n - 1, -1, -1):  # Recorre el vector en orden inverso\n",
        "    if i == 0:\n",
        "        print(vec[i], end=\"\")  # Si es el primer elemento, no añade un espacio al final\n",
        "    else:\n",
        "        print(vec[i], end=\" \")  # Añade un espacio al final para separar los elementos\n",
        "print(']')\n",
        "\n",
        "# Imprime el vector generado en orden inverso (forma 2, de manera iterativa)\n",
        "print(\"OTRA FORMA IMPRESIÓN AL REVÉS - FORMA ITERATIVA\")\n",
        "print('[', end=\"\")\n",
        "for i in range(len(vec)):  # Recorre el vector en orden normal\n",
        "    if i == n - 1:\n",
        "        print(vec[-i - 1], end=\"\")  # Si es el último elemento, no añade un espacio al final\n",
        "    else:\n",
        "        print(vec[-i - 1], end=\" \")  # Añade un espacio al final para separar los elementos\n",
        "print(']')\n"
      ]
    },
    {
      "cell_type": "markdown",
      "metadata": {
        "id": "l2Qrp5xg3HqD"
      },
      "source": [
        "2 de mayo"
      ]
    },
    {
      "cell_type": "code",
      "execution_count": null,
      "metadata": {
        "id": "nmiz886Z3Ijw"
      },
      "outputs": [],
      "source": [
        "import random as rd  # Importa el módulo random y lo apoda como 'rd'\n",
        "\n",
        "# Solicita al usuario que ingrese el número de filas y columnas de la matriz\n",
        "m = int(input('Ingrese las filas:'))\n",
        "n = int(input('Ingrese las columnas:'))\n",
        "\n",
        "A = []  # Inicializa una lista vacía que representará la matriz\n",
        "\n",
        "# Inserta datos aleatorios en la matriz\n",
        "for i in range(m):\n",
        "    filas = []  # Inicializa una lista vacía que representará cada fila de la matriz\n",
        "    for j in range(n):\n",
        "        num = rd.randint(0, 10)  # Genera un número aleatorio entre 0 y 10\n",
        "        filas.append(num)  # Agrega el número a la fila actual\n",
        "    A.append(filas)  # Agrega la fila a la matriz A\n",
        "\n",
        "# Imprime la matriz\n",
        "for i in range(m):\n",
        "    print('[', end='')\n",
        "    for j in range(n):\n",
        "        if j == n - 1:\n",
        "            print(f'{A[i][j]}', end='')  # Si es el último elemento de la fila, no añade una coma al final\n",
        "        else:\n",
        "            print(f'{A[i][j]}', end=',')  # Añade una coma al final para separar los elementos\n",
        "    print(']')\n",
        "\n",
        "# Suma de una fila aleatoria\n",
        "alea1 = rd.randint(0, m - 1)  # Selecciona aleatoriamente un número entre 0 y el número de filas - 1\n",
        "suma1 = sum(A[alea1])  # Suma todos los elementos de la fila aleatoria seleccionada\n",
        "print(f'La suma de la fila {alea1} es {suma1}')\n",
        "\n",
        "# Suma de una columna aleatoria\n",
        "alea2 = rd.randint(0, n - 1)  # Selecciona aleatoriamente un número entre 0 y el número de columnas - 1\n",
        "suma2 = sum(A[i][alea2] for i in range(m))  # Suma todos los elementos de la columna aleatoria seleccionada\n",
        "print(f'La suma de la columna {alea2} es {suma2}')\n",
        "\n",
        "# Suma de la diagonal principal (si la matriz es cuadrada)\n",
        "if m == n:  # Verifica si la matriz es cuadrada\n",
        "    suma_diagonal_prin = sum(A[i][i] for i in range(m))  # Suma los elementos de la diagonal principal\n",
        "    print(f\"La suma de la diagonal principal es: {suma_diagonal_prin}\")\n",
        "else:\n",
        "    print(\"Solo podemos sumar la diagonal de matrices cuadradas\")\n",
        "\n",
        "# Suma de la diagonal secundaria (si la matriz es cuadrada)\n",
        "if m == n:  # Verifica si la matriz es cuadrada\n",
        "    suma_diagonal_sec = sum(A[i][n - 1 - i] for i in range(m))  # Suma los elementos de la diagonal secundaria\n",
        "    print(f'La suma de la diagonal secundaria es: {suma_diagonal_sec}')\n",
        "else:\n",
        "    print('No se puede sumar la diagonal de una matriz no cuadrada')\n",
        "\n",
        "# Suma de las filas\n",
        "sumafilas = [sum(row) for row in A]  # Calcula la suma de cada fila usando list comprehension\n",
        "print(f\"Las sumas de las filas son: {sumafilas}\")\n",
        "\n",
        "# Suma de las columnas\n",
        "sumacolumnas = [sum(col) for col in zip(*A)]  # Calcula la suma de cada columna usando list comprehension y la función zip\n",
        "print(f\"Las sumas de las columnas son: {sumacolumnas}\")\n",
        "\n",
        "# El número mayor de cada fila y su índice\n",
        "matrizf = [[max(row), row.index(max(row))] for row in A]  # Encuentra el mayor número de cada fila y su índice\n",
        "print(f\"Los números mayores de cada fila y sus índices son: {matrizf}\")\n",
        "\n",
        "# El número mayor de cada columna y su índice\n",
        "matrizc = [[max(col), col.index(max(col))] for col in zip(*A)]  # Encuentra el mayor número de cada columna y su índice\n",
        "print(f\"Los números mayores de cada columna y sus índices son: {matrizc}\")\n"
      ]
    },
    {
      "cell_type": "markdown",
      "metadata": {
        "id": "FmZ6vKVe3Xnm"
      },
      "source": [
        "6 de mayo"
      ]
    },
    {
      "cell_type": "code",
      "execution_count": null,
      "metadata": {
        "id": "yF4Eq0PK3aMI"
      },
      "outputs": [],
      "source": [
        "simpsons = [\"Homero\", \"Marge\", \"Bart\"]  # Crea una lista llamada simpsons con tres elementos\n",
        "print(simpsons[0])  # Imprime el primer elemento de la lista (Homero)\n",
        "\n",
        "print(f\"El tamaño de la lista es {len(simpsons)}\")  # Imprime la longitud de la lista\n",
        "simpsons.append(\"Lisa\")  # Agrega el elemento \"Lisa\" al final de la lista\n",
        "print(simpsons)  # Imprime la lista actualizada\n",
        "simpsons.insert(1, \"Oscar\")  # Inserta el elemento \"Oscar\" en la posición 1 de la lista\n",
        "print(simpsons)  # Imprime la lista actualizada\n",
        "simpsons.remove(\"Oscar\")  # Elimina el elemento \"Oscar\" de la lista\n",
        "print(simpsons)  # Imprime la lista actualizada\n",
        "\n",
        "import random  # Importa el módulo random\n",
        "\n",
        "vec = []  # Crea una lista vacía llamada vec\n",
        "n = int(input(\"Ingrese el tamaño del vector:\"))  # Solicita al usuario el tamaño del vector\n",
        "\n",
        "# Llena el vector con números aleatorios entre 1 y 10\n",
        "for i in range(n):\n",
        "    num = random.randint(1, 10)  # Genera un número aleatorio entre 1 y 10\n",
        "    vec.append(num)  # Agrega el número generado al vector\n",
        "\n",
        "print(vec)  # Imprime el vector generado\n",
        "\n",
        "# Ciclo que permite al usuario eliminar elementos del vector\n",
        "while True:\n",
        "    elim = int(input(\"¿Qué elemento quieres eliminar?:\"))  # Solicita al usuario el elemento a eliminar\n",
        "    for i in vec:\n",
        "        if elim in vec:  # Verifica si el elemento a eliminar está en el vector\n",
        "            vec.remove(elim)  # Elimina todas las ocurrencias del elemento en el vector\n",
        "    print(vec)  # Imprime el vector actualizado\n",
        "    opc = str(input(\"¿Quieres eliminar más elementos? (si/no):\"))  # Pregunta al usuario si quiere eliminar más elementos\n",
        "    if opc == \"si\":  # Si el usuario responde \"si\", continúa eliminando elementos\n",
        "        continue\n",
        "    else:  # Si el usuario responde cualquier otra cosa que no sea \"si\", sale del ciclo\n",
        "        break  # Termina el ciclo y continúa con el resto del código\n"
      ]
    },
    {
      "cell_type": "code",
      "execution_count": null,
      "metadata": {
        "colab": {
          "base_uri": "https://localhost:8080/"
        },
        "id": "eo_0lfil3g6E",
        "outputId": "742f45a9-67fa-4212-9738-aadeee20e1f3"
      },
      "outputs": [
        {
          "name": "stdout",
          "output_type": "stream",
          "text": [
            "['wed', 'thurs', 'fri']\n"
          ]
        }
      ],
      "source": [
        "# Creación de una lista llamada weekdays que contiene los nombres de los días de la semana.\n",
        "weekdays = [\"mon\", \"tues\", \"wed\", \"thurs\", \"fri\"]\n",
        "\n",
        "# Imprime una porción de la lista weekdays utilizando slicing.\n",
        "# En este caso, [2:] indica que se toman todos los elementos desde el índice 2 hasta el final de la lista.\n",
        "print(weekdays[2:])\n"
      ]
    },
    {
      "cell_type": "code",
      "execution_count": null,
      "metadata": {},
      "outputs": [],
      "source": [
        "Vector = []  # Crea una lista vacía llamada Vector\n",
        "\n",
        "numero = int(input(\"Ingrese cuántos vectores desea: \"))  # Solicita al usuario la cantidad de elementos que desea tener en el vector\n",
        "\n",
        "import random as rd  # Importa el módulo random como rd\n",
        "\n",
        "# Llena el vector con números aleatorios entre 1 y 10\n",
        "for i in range(numero):\n",
        "    num = rd.randint(1, 10)  # Genera un número aleatorio entre 1 y 10\n",
        "    Vector.append(num)  # Agrega el número generado al vector\n",
        "\n",
        "print(Vector)  # Imprime el vector generado\n",
        "\n",
        "eliminar = int(input(\"Ingrese el número que desea eliminar:\"))  # Solicita al usuario el número que desea eliminar del vector\n",
        "\n",
        "# Itera sobre cada elemento del vector\n",
        "for i in Vector:\n",
        "    if i == eliminar:  # Verifica si el elemento actual es igual al número que se desea eliminar\n",
        "        Vector.remove(eliminar)  # Si es así, elimina el número del vector\n",
        "        print(Vector)  # Imprime el vector actualizado después de la eliminación\n"
      ]
    },
    {
      "cell_type": "code",
      "execution_count": null,
      "metadata": {},
      "outputs": [],
      "source": [
        "import random as rd  # Importa el módulo random y lo renombra como rd\n",
        "\n",
        "m = int(input('Ingrese el tamaño del vector:'))  # Solicita al usuario que ingrese el tamaño del vector\n",
        "\n",
        "A = []  # Inicializa una lista vacía llamada A, que almacenará los elementos del vector\n",
        "\n",
        "# Llena el vector con números aleatorios entre 1 y 10\n",
        "for i in range(m):\n",
        "    A.append(rd.randint(1, 10))  # Agrega un número aleatorio entre 1 y 10 al vector A\n",
        "\n",
        "print(A)  # Imprime el vector generado\n",
        "\n",
        "eliminar = int(input(\"Ingrese el número que desea eliminar:\"))  # Solicita al usuario el número que desea eliminar del vector\n",
        "\n",
        "# Itera sobre cada elemento del vector A\n",
        "for i in A:\n",
        "    if i == eliminar:  # Comprueba si el elemento actual es igual al número que se desea eliminar\n",
        "        A.remove(eliminar)  # Si es así, elimina el número del vector A\n",
        "\n",
        "print(A)  # Imprime el vector actualizado después de la eliminación\n"
      ]
    },
    {
      "cell_type": "markdown",
      "metadata": {},
      "source": [
        "13 de mayo"
      ]
    },
    {
      "cell_type": "code",
      "execution_count": null,
      "metadata": {},
      "outputs": [],
      "source": [
        "import random  # Importa el módulo random para generar números aleatorios\n",
        "\n",
        "# Solicita al usuario el número de filas y columnas para la matriz\n",
        "m = int(input(\"Ingrese cuántas filas desea: \"))\n",
        "n = int(input(\"Ingrese cuántas columnas desea: \"))\n",
        "\n",
        "matriz = []  # Inicializa una lista vacía para almacenar la matriz\n",
        "\n",
        "# Llena la matriz con números aleatorios entre 1 y 10\n",
        "for i in range(m):\n",
        "    filas = []  # Inicializa una lista vacía para cada fila de la matriz\n",
        "    for j in range(n):\n",
        "        num = random.randint(1, 10)  # Genera un número aleatorio entre 1 y 10\n",
        "        filas.append(num)  # Agrega el número a la fila actual\n",
        "    matriz.append(filas)  # Agrega la fila a la matriz\n",
        "\n",
        "# Imprime la matriz\n",
        "for fila in matriz:\n",
        "    for elemento in fila:\n",
        "        print(elemento, end=\" \")  # Imprime cada elemento de la fila\n",
        "    print()  # Imprime una nueva línea para separar las filas\n",
        "\n",
        "# Calcula las medias de las columnas\n",
        "medias = []\n",
        "for i in range(n):\n",
        "    suma_columna = sum(matriz[j][i] for j in range(m))  # Suma los elementos de la columna actual\n",
        "    media_columna = suma_columna / m  # Calcula la media de la columna\n",
        "    medias.append(media_columna)  # Agrega la media a la lista de medias\n",
        "\n",
        "print(\"Las medias de las columnas son: \")\n",
        "print(medias)\n",
        "\n",
        "# Calcula las medianas de las filas\n",
        "medianas = []\n",
        "for fila in matriz:\n",
        "    fila_ordenada = sorted(fila)  # Ordena la fila de menor a mayor\n",
        "    longitud_fila = len(fila_ordenada)\n",
        "    if longitud_fila % 2 == 0:  # Si la fila tiene longitud par\n",
        "        mediana = (fila_ordenada[longitud_fila // 2] + fila_ordenada[longitud_fila // 2 - 1]) / 2  # Calcula la mediana\n",
        "    else:  # Si la fila tiene longitud impar\n",
        "        mediana = fila_ordenada[longitud_fila // 2]  # La mediana es el elemento en la mitad de la fila\n",
        "    medianas.append(mediana)  # Agrega la mediana a la lista de medianas\n",
        "\n",
        "print(\"Las medianas de las filas son: \")\n",
        "print(medianas)\n"
      ]
    },
    {
      "cell_type": "markdown",
      "metadata": {},
      "source": [
        "16 de mayo"
      ]
    },
    {
      "cell_type": "code",
      "execution_count": null,
      "metadata": {},
      "outputs": [],
      "source": [
        "def areaT(base, altura):\n",
        "    area = (base * altura) / 2  # Calcula el área del triángulo usando la fórmula base * altura / 2\n",
        "    return area  # Devuelve el resultado del cálculo\n",
        "\n",
        "print(areaT(3, 5))  # Llama a la función areaT con base=3 y altura=5, e imprime el resultado\n",
        "x = int(input('Ingrese la base:'))  # Solicita al usuario que ingrese la base del triángulo\n",
        "y = int(input('Ingrese la altura:'))  # Solicita al usuario que ingrese la altura del triángulo\n",
        "print(areaT(x, y))  # Llama a la función areaT con la base y altura proporcionadas por el usuario, e imprime el resultado\n"
      ]
    },
    {
      "cell_type": "code",
      "execution_count": null,
      "metadata": {},
      "outputs": [],
      "source": [
        "def areaT(base, altura):\n",
        "    area = (base * altura) / 2  # Calcula el área del triángulo usando la fórmula base * altura / 2\n",
        "    return area  # Devuelve el resultado del cálculo\n",
        "\n",
        "def fact(n):\n",
        "    f = 1\n",
        "    for i in range(1, n + 1):\n",
        "        f = f * i  # Calcula el factorial de n\n",
        "    return f  # Devuelve el resultado del cálculo\n",
        "\n",
        "def Sumita(num1, num2):\n",
        "    sume = num1 + num2  # Calcula la suma de num1 y num2\n",
        "    return sume  # Devuelve el resultado del cálculo\n",
        "\n",
        "# Llama a la función areaT con base=3 y altura=5, e imprime el resultado\n",
        "print(areaT(3, 5))\n",
        "\n",
        "x = int(input('Ingrese la base:'))  # Solicita al usuario que ingrese la base del triángulo\n",
        "y = int(input('Ingrese la altura:'))  # Solicita al usuario que ingrese la altura del triángulo\n",
        "\n",
        "# Llama a la función areaT con la base y altura proporcionadas por el usuario, e imprime el resultado\n",
        "print(areaT(x, y))\n",
        "\n",
        "# Llama a la función fact con n=0, que devuelve 1 (ya que el factorial de 0 es 1), e imprime el resultado\n",
        "print(fact(0))\n",
        "\n",
        "# Llama a la función Sumita con num1=7 y num2=8, que devuelve la suma de 7 y 8 (15), e imprime el resultado\n",
        "print(Sumita(7, 8))\n",
        "\n",
        "Principal.py\n",
        "\n",
        "# Modulo1.py\n",
        "\n",
        "# Definición de la función areaT para calcular el área de un triángulo.\n",
        "def areaT(base, altura):\n",
        "    area = (base * altura) / 2\n",
        "    return area\n",
        "\n",
        "# Definición de la función fact para calcular el factorial de un número.\n",
        "def fact(n):\n",
        "    f = 1\n",
        "    for i in range(1, n + 1):\n",
        "        f = f * i\n",
        "    return f\n",
        "\n",
        "# Definición de la función Sumita para sumar dos números.\n",
        "def Sumita(num1, num2):\n",
        "    sume = num1 + num2\n",
        "    return sume\n",
        "\n",
        "# Definición de la función coef para calcular el coeficiente binomial.\n",
        "def coef(x, y):\n",
        "    # Fórmula para calcular el coeficiente binomial: C(x, y) = x! / (y! * (x - y)!)\n",
        "    cb = fact(x) / (fact(y) * fact(x - y))\n",
        "    return cb\n",
        "\n",
        "# Principal.py\n",
        "\n",
        "# Importación de la función coef del módulo Modulo1.\n",
        "from Modulo1 import coef\n",
        "\n",
        "# Mensaje para indicar al usuario que se calculará el coeficiente binomial.\n",
        "print('CALCULO COEFICIENTE BINOMIAL')\n",
        "\n",
        "# Ingreso de valores para 'a' y 'b' desde la entrada estándar.\n",
        "a = int(input('Ingrese a:'))\n",
        "b = int(input('Ingrese b:'))\n",
        "\n",
        "# Llamada a la función coef para calcular el coeficiente binomial.\n",
        "coefi = coef(a, b)\n",
        "\n",
        "# Impresión del resultado.\n",
        "print(f'El coeficiente binomial es {coefi}')\n",
        "\n",
        "# Modulo1.py\n",
        "\n",
        "# Definición de la función areaT para calcular el área de un triángulo.\n",
        "def areaT(base, altura):\n",
        "    area = (base * altura) / 2\n",
        "    return area\n",
        "\n",
        "# Definición de la función fact para calcular el factorial de un número.\n",
        "def fact(n):\n",
        "    f = 1\n",
        "    for i in range(1, n + 1):\n",
        "        f = f * i\n",
        "    return f\n",
        "\n",
        "# Definición de la función Sumita para sumar dos números.\n",
        "def Sumita(num1, num2):\n",
        "    sume = num1 + num2\n",
        "    return sume\n",
        "\n",
        "# Definición de la función coef para calcular el coeficiente binomial.\n",
        "def coef(x, y):\n",
        "    # Fórmula para calcular el coeficiente binomial: C(x, y) = x! / (y! * (x - y)!)\n",
        "    cb = fact(x) / (fact(y) * fact(x - y))\n",
        "    return cb\n",
        "\n",
        "\n"
      ]
    },
    {
      "cell_type": "markdown",
      "metadata": {},
      "source": [
        "Lunes 20 de mayo\n"
      ]
    },
    {
      "cell_type": "code",
      "execution_count": null,
      "metadata": {},
      "outputs": [],
      "source": [
        "# Definición de la función para calcular el área de un triángulo.\n",
        "def areaT(base, altura):\n",
        "    area = (base * altura) / 2\n",
        "    return area\n",
        "\n",
        "# Definición de la función para calcular el factorial de un número.\n",
        "def fact(n):\n",
        "    f = 1\n",
        "    # Impresión para indicar el cálculo del factorial.\n",
        "    print(f'Calculo del factorial de {n}')\n",
        "    for i in range(1, n + 1):\n",
        "        f = f * i\n",
        "    # Impresión del resultado del cálculo del factorial.\n",
        "    print(f'El factorial de {n} es {f}')\n",
        "    return f\n",
        "\n",
        "# Definición de la función para sumar dos números.\n",
        "def Sumita(num1, num2):\n",
        "    sume = num1 + num2\n",
        "    return sume\n",
        "\n",
        "# Definición de la función para calcular el coeficiente binomial.\n",
        "def coef(x, y):\n",
        "    # Cálculo del coeficiente binomial utilizando la función fact.\n",
        "    cb = fact(x) / (fact(y) * fact(x - y))\n",
        "    return cb\n",
        "\n",
        "# Solicitar al usuario los valores de a y b.\n",
        "a = int(input('Ingrese el valor de a:'))\n",
        "b = int(input('Ingrese el valor de b:'))\n",
        "\n",
        "# Llamar a la función coef para calcular el coeficiente binomial y mostrar el resultado.\n",
        "respuesta = coef(a, b)\n",
        "print(f'El coeficiente binomial es {respuesta}')\n",
        "\n",
        "\n",
        "#Codigo del Modulo:\n",
        "import random \n",
        "\n",
        "import random\n",
        "\n",
        "def crearVector(n):\n",
        "    \"\"\"\n",
        "    Función para crear un vector de tamaño n con números aleatorios en el rango de 0 a 10.\n",
        "    \n",
        "    Parámetros:\n",
        "        n (int): Tamaño del vector a crear.\n",
        "    \n",
        "    Retorna:\n",
        "        list: Vector creado.\n",
        "    \"\"\"\n",
        "    vec = []  # Inicializa una lista vacía para almacenar el vector\n",
        "    for i in range(n):  # Itera n veces para generar n elementos\n",
        "        num = random.randint(0, 10)  # Genera un número aleatorio en el rango de 0 a 10\n",
        "        vec.append(num)  # Agrega el número generado al final del vector\n",
        "    return vec  # Retorna el vector creado\n",
        "\n",
        "def imprimeVector(vec):\n",
        "    \"\"\"\n",
        "    Función para imprimir un vector de manera iterativa.\n",
        "    \n",
        "    Parámetros:\n",
        "        vec (list): Vector a imprimir.\n",
        "    \"\"\"\n",
        "    n = len(vec)  # Obtiene la longitud del vector\n",
        "    print(\"IMPRESION NORMAL\")  # Imprime un encabezado\n",
        "    print('[', end=\"\")  # Imprime el inicio del vector\n",
        "    for i in range(n):  # Itera sobre cada elemento del vector\n",
        "        if i == n - 1:  # Si es el último elemento del vector\n",
        "            print(vec[i], end=\"\")  # Imprime el elemento sin espacio adicional\n",
        "        else:\n",
        "            print(vec[i], end=\" \")  # Imprime el elemento seguido de un espacio\n",
        "    print(']')  # Imprime el cierre del vector\n",
        "\n",
        "# Ejemplo de uso\n",
        "vector = crearVector(5)  # Crea un vector de tamaño 5 con números aleatorios\n",
        "imprimeVector(vector)  # Imprime el vector generado\n",
        "\n",
        "#Codigo principal \n",
        "import Funcion_Vector as fb\n",
        "\n",
        "# Solicita al usuario ingresar el tamaño del vector\n",
        "x = int(input('Ingrese el tamaño del vector: '))\n",
        "\n",
        "# Crea el primer vector de tamaño x y lo almacena en la variable 'a'\n",
        "a = fb.crearVector(x)\n",
        "# Imprime el primer vector\n",
        "fb.imprimeVector(a)\n",
        "\n",
        "# Crea el segundo vector de tamaño x y lo almacena en la variable 'b'\n",
        "b = fb.crearVector(x)\n",
        "# Imprime el segundo vector\n",
        "fb.imprimeVector(b)\n",
        "\n",
        "#Funciones de vectores\n",
        "\n",
        "import random\n",
        "\n",
        "def crearVector(n):\n",
        "    \"\"\"\n",
        "    Función para crear un vector de longitud n con números aleatorios en el rango de 0 a 10.\n",
        "    \n",
        "    Parámetros:\n",
        "        n (int): Longitud del vector a crear.\n",
        "    \n",
        "    Retorna:\n",
        "        list: Vector creado.\n",
        "    \"\"\"\n",
        "    vec = []  # Inicializa una lista vacía para almacenar el vector\n",
        "    for i in range(n):  # Itera n veces para generar n elementos\n",
        "        num = random.randint(0, 10)  # Genera un número aleatorio en el rango de 0 a 10\n",
        "        vec.append(num)  # Agrega el número generado al final del vector\n",
        "    return vec  # Retorna el vector creado\n",
        "\n",
        "def imprimeVector(vec):\n",
        "    \"\"\"\n",
        "    Función para imprimir un vector de manera iterativa.\n",
        "    \n",
        "    Parámetros:\n",
        "        vec (list): Vector a imprimir.\n",
        "    \"\"\"\n",
        "    n = len(vec)  # Obtiene la longitud del vector\n",
        "    print(\"IMPRESION NORMAL\")  # Imprime un encabezado\n",
        "    print('[', end=\"\")  # Imprime el inicio del vector\n",
        "    for i in range(n):  # Itera sobre cada elemento del vector\n",
        "        if i == n - 1:  # Si es el último elemento del vector\n",
        "            print(vec[i], end=\"\")  # Imprime el elemento sin espacio adicional\n",
        "        else:\n",
        "            print(vec[i], end=\" \")  # Imprime el elemento seguido de un espacio\n",
        "    print(']')  # Imprime el cierre del vector\n",
        "\n",
        "def productoPunto(a, b):\n",
        "    \"\"\"\n",
        "    Función para calcular el producto punto entre dos vectores.\n",
        "    \n",
        "    Parámetros:\n",
        "        a (list): Primer vector.\n",
        "        b (list): Segundo vector.\n",
        "    \n",
        "    Retorna:\n",
        "        int: Producto punto entre los dos vectores.\n",
        "    \"\"\"\n",
        "    n = len(a)  # Obtiene la longitud de uno de los vectores\n",
        "    suma = 0  # Inicializa una variable para almacenar la suma de los productos\n",
        "    for i in range(n):  # Itera sobre cada elemento de los vectores\n",
        "        suma += a[i] * b[i]  # Calcula el producto entre los elementos correspondientes y los suma\n",
        "    return suma  # Retorna el producto punto\n",
        "\n",
        "def menorVector(vec):\n",
        "    \"\"\"\n",
        "    Función para encontrar el valor mínimo en un vector.\n",
        "    \n",
        "    Parámetros:\n",
        "        vec (list): Vector en el que se buscará el valor mínimo.\n",
        "    \n",
        "    Retorna:\n",
        "        int: Valor mínimo encontrado en el vector.\n",
        "    \"\"\"\n",
        "    menor = 1000  # Inicializa una variable para almacenar el valor mínimo, se asume un valor inicial alto\n",
        "    n = len(vec)  # Obtiene la longitud del vector\n",
        "    for i in range(n):  # Itera sobre cada elemento del vector\n",
        "        if vec[i] < menor:  # Compara el elemento actual con el menor encontrado hasta el momento\n",
        "            menor = vec[i]  # Si el elemento actual es menor, actualiza el valor mínimo\n",
        "    return menor  # Retorna el valor mínimo\n",
        "\n",
        "def mayorVector(vec):\n",
        "    \"\"\"\n",
        "    Función para encontrar el valor máximo en un vector.\n",
        "    \n",
        "    Parámetros:\n",
        "        vec (list): Vector en el que se buscará el valor máximo.\n",
        "    \n",
        "    Retorna:\n",
        "        int: Valor máximo encontrado en el vector.\n",
        "    \"\"\"\n",
        "    mayor = 0  # Inicializa una variable para almacenar el valor máximo, se asume un valor inicial bajo\n",
        "    n = len(vec)  # Obtiene la longitud del vector\n",
        "    for i in range(n):  # Itera sobre cada elemento del vector\n",
        "        if vec[i] > mayor:  # Compara el elemento actual con el mayor encontrado hasta el momento\n",
        "            mayor = vec[i]  # Si el elemento actual es mayor, actualiza el valor máximo\n",
        "    return mayor  # Retorna el valor máximo\n",
        "\n",
        "def ordenaVector(vec):\n",
        "    \"\"\"\n",
        "    Función para ordenar un vector de menor a mayor utilizando el algoritmo de burbuja.\n",
        "    \n",
        "    Parámetros:\n",
        "        vec (list): Vector que se ordenará.\n",
        "    \n",
        "    Retorna:\n",
        "        list: Vector ordenado de menor a mayor.\n",
        "    \"\"\"\n",
        "    n = len(vec)  # Obtiene la longitud del vector\n",
        "    for i in range(n):  # Itera sobre cada elemento del vector\n",
        "        for j in range(n - 1):  # Itera sobre cada elemento del vector excepto el último\n",
        "            if vec[j] > vec[j + 1]:  # Compara dos elementos consecutivos\n",
        "                # Si el elemento actual es mayor que el siguiente, intercámbialos\n",
        "                aux = vec[j]\n",
        "                vec[j] = vec[j + 1]\n",
        "                vec[j + 1] = aux\n",
        "    return vec  # Retorna el vector ordenado"
      ]
    }
  ],
  "metadata": {
    "colab": {
      "provenance": []
    },
    "kernelspec": {
      "display_name": "Python 3",
      "language": "python",
      "name": "python3"
    },
    "language_info": {
      "codemirror_mode": {
        "name": "ipython",
        "version": 3
      },
      "file_extension": ".py",
      "mimetype": "text/x-python",
      "name": "python",
      "nbconvert_exporter": "python",
      "pygments_lexer": "ipython3",
      "version": "3.7.1"
    }
  },
  "nbformat": 4,
  "nbformat_minor": 0
}
